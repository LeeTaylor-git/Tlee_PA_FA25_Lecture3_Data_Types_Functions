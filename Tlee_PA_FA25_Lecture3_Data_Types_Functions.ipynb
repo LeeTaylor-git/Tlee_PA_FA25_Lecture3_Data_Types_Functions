{
  "nbformat": 4,
  "nbformat_minor": 0,
  "metadata": {
    "colab": {
      "provenance": [],
      "include_colab_link": true
    },
    "kernelspec": {
      "name": "python3",
      "display_name": "Python 3"
    },
    "language_info": {
      "name": "python"
    }
  },
  "cells": [
    {
      "cell_type": "markdown",
      "metadata": {
        "id": "view-in-github",
        "colab_type": "text"
      },
      "source": [
        "<a href=\"https://colab.research.google.com/github/LeeTaylor-git/Tlee_PA_FA25_Lecture3_Data_Types_Functions/blob/main/Tlee_PA_FA25_Lecture3_Data_Types_Functions.ipynb\" target=\"_parent\"><img src=\"https://colab.research.google.com/assets/colab-badge.svg\" alt=\"Open In Colab\"/></a>"
      ]
    },
    {
      "cell_type": "markdown",
      "source": [
        "**Practice 1: use two ways to print the following string**\n",
        "```\n",
        "Today's a good day\n",
        "```"
      ],
      "metadata": {
        "id": "wZGPr1BUESST"
      }
    },
    {
      "cell_type": "code",
      "source": [
        "x = \"Today's a good day\"\n",
        "print(\"Today's a good day\")\n",
        "print(x)"
      ],
      "metadata": {
        "id": "Ad7oor7ntDbB"
      },
      "execution_count": null,
      "outputs": []
    },
    {
      "cell_type": "markdown",
      "source": [
        "**Practice 2: Explain the following code in writing and calculate the value of x after code execution**\n",
        "\n",
        "```\n",
        "x = 1\n",
        "x = x + 2\n",
        "```\n",
        "\n"
      ],
      "metadata": {
        "id": "8MHiqoFB4ef4"
      }
    },
    {
      "cell_type": "code",
      "source": [
        "x = 1\n",
        "x = x + 2\n",
        "print(x)"
      ],
      "metadata": {
        "id": "cNRXFj1GKJcB"
      },
      "execution_count": null,
      "outputs": []
    },
    {
      "cell_type": "markdown",
      "source": [
        "**This code assigns the variable 'x' to the value of 1. It then reassigned the variable 'x' to the variable 3 by adding the already assigned 1 and 2.**"
      ],
      "metadata": {
        "id": "2lbBW1hdLA3r"
      }
    },
    {
      "cell_type": "markdown",
      "source": [
        "**Practice 3: Run the following code and debug if necessary**\n",
        "\n",
        "Hint: there are two ways to print the value of x\n",
        "\n",
        "\n",
        "```\n",
        "x = 33\n",
        "print(\"The value is \" + x)\n",
        "```\n",
        "\n"
      ],
      "metadata": {
        "id": "Au9k3jr07hce"
      }
    },
    {
      "cell_type": "code",
      "source": [
        "x = 33\n",
        "print(f\"The value is {x}\")"
      ],
      "metadata": {
        "colab": {
          "base_uri": "https://localhost:8080/"
        },
        "id": "PVXPwiS9MAbv",
        "outputId": "2c1d64ee-7522-42ab-e4ee-f2363597c49d"
      },
      "execution_count": 10,
      "outputs": [
        {
          "output_type": "stream",
          "name": "stdout",
          "text": [
            "The value is 33\n"
          ]
        }
      ]
    }
  ]
}